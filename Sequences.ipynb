{
 "cells": [
  {
   "cell_type": "markdown",
   "metadata": {},
   "source": [
    "Probability of subsequence in a random sequence\n",
    "--------------------------------------------\n",
    "\n",
    "A random sequence of length $N$ is a sequence, where in each place bases `A`, `T`, `C`, `G` can occur with equal probability.\n",
    "\n",
    "The probability that a certain subsequence is found in a random sequence of length $N$ is the number random sequences with the subsequence divided by the total number or possible random sequences of such length.\n",
    "\n",
    "The total number of possible random sequences is $4^N$"
   ]
  },
  {
   "cell_type": "markdown",
   "metadata": {},
   "source": [
    "How to calculate $S$, the number of random sequences of length $N$ that contain our subsequence?\n",
    "\n",
    "Our subsequence is set, it does not allow for any change in itself. But if it occurs somewhere in the sequence, then all other bases could be whatever they like—all count toward $S$.\n",
    "\n",
    "So, we can think of our subsequence as one unit of length $L$. If it occurs once in the sequence, then there is $N-L$ bases left. We can place our unit of subsequence anywhere between those $N-L$ bases, there are $\\binom{N-L+1}{1}$ ways to do so. The total number of random sequences with our subsequence is $4^{N-L} \\cdot \\binom{N-L+1}{1}$ "
   ]
  },
  {
   "cell_type": "markdown",
   "metadata": {},
   "source": [
    "However we counted some sequences multiple times: for instance, if our subsequence started at base 0, and among all the random sequences of the rest $N-L$ bases there was a sequence with our subsequence also starting at $L$. And we counted that sequence twice, because we also counted it when considering that our subsequence was at position $L$ and the random beginning turned our to be our sequence again. So we need to subtract the number of random sequences with two subsequences from the previous result."
   ]
  },
  {
   "cell_type": "markdown",
   "metadata": {},
   "source": [
    "The number of possible sequences which contain two subsequences is $4^{N-2L} \\cdot \\binom{N-2L+2}{2}$ and we subtract it from the original estimate to get \n",
    "\n",
    "$$4^{N-L} \\cdot \\binom{N-L+1}{1} - 4^{N-2L} \\cdot \\binom{N-2L+2}{2}$$"
   ]
  },
  {
   "cell_type": "markdown",
   "metadata": {},
   "source": [
    "However now we subtracted too much: the random sequence which has three our subsequences was accounted for 3 times in the left part and 3 times in the right part. So we need to add back the number of random sequences with 3 our subsequences. Extrapolating this, we get the total number of random sequences computed like this:\n",
    "\n",
    "$$\\sum_{k=1}^{N/L} -1^{k+1} \\cdot 4^{N-kL} \\cdot \\binom{N-kL+k}{k}$$"
   ]
  },
  {
   "cell_type": "markdown",
   "metadata": {},
   "source": [
    "### Code\n",
    "\n",
    "Some basic functions to generate random DNA, check if a sequence is in a DNA and estimate probability based on random generation"
   ]
  },
  {
   "cell_type": "code",
   "execution_count": 20,
   "metadata": {},
   "outputs": [],
   "source": [
    "import random\n",
    "import scipy.misc\n",
    "import numpy as np\n",
    "\n",
    "DNA_BASES = ('A', 'T', 'C', 'G')\n",
    "\n",
    "def random_dna(l):\n",
    "    return [random.choice(DNA_BASES) for i in range(l)]\n",
    "\n",
    "def has_sequence(dna, seq):\n",
    "    if len(seq) > len(dna):\n",
    "        return False\n",
    "    i = None\n",
    "    while True:\n",
    "        try:\n",
    "            if i is None:\n",
    "                start = 0\n",
    "            else:\n",
    "                start = i + 1\n",
    "            i = dna.index(seq[0], start)\n",
    "        except ValueError:\n",
    "            return False\n",
    "        if len(dna) - i < len(seq):\n",
    "            return False\n",
    "        all_ok = True\n",
    "        for j in range(1, len(seq)):\n",
    "            if dna[i + j] != seq[j]:\n",
    "                all_ok = False\n",
    "                break\n",
    "        if all_ok:\n",
    "            return True\n",
    "\n",
    "def estimate_probability_of_seq(random_length, needle, number_of_trials):\n",
    "    c = 0\n",
    "    for q in range(number_of_trials):\n",
    "        if has_sequence(random_dna(random_length), needle):\n",
    "            c += 1\n",
    "    return c / number_of_trials"
   ]
  },
  {
   "cell_type": "markdown",
   "metadata": {},
   "source": [
    "A function to compute one part of the sum above"
   ]
  },
  {
   "cell_type": "code",
   "execution_count": 8,
   "metadata": {},
   "outputs": [],
   "source": [
    "def number_of_sequences(random_length, needle_length, needle_count):\n",
    "    return scipy.misc.comb(random_length - needle_count * needle_length + needle_count, needle_count) \\\n",
    "            * 4 ** (random_length - needle_length * needle_count) \\\n",
    "            * (-1) ** (needle_count + 1)"
   ]
  },
  {
   "cell_type": "markdown",
   "metadata": {},
   "source": [
    "A function to compute the whole probability"
   ]
  },
  {
   "cell_type": "code",
   "execution_count": 25,
   "metadata": {},
   "outputs": [],
   "source": [
    "def probability_of_seq(random_length, needle_length):\n",
    "    number_of_seqs = np.sum(\n",
    "        [number_of_sequences(random_length, needle_length, i) \n",
    "         for i in range(1, 1 + random_length // needle_length)]\n",
    "    )\n",
    "    total_number = 4**random_length\n",
    "    return number_of_seqs / total_number"
   ]
  },
  {
   "cell_type": "markdown",
   "metadata": {},
   "source": [
    "### Results\n",
    "\n",
    "Our predicted probability works fine"
   ]
  },
  {
   "cell_type": "code",
   "execution_count": 18,
   "metadata": {},
   "outputs": [
    {
     "data": {
      "text/plain": [
       "0.7968880041718008"
      ]
     },
     "execution_count": 18,
     "metadata": {},
     "output_type": "execute_result"
    }
   ],
   "source": [
    "probability_of_seq(100, 3)"
   ]
  },
  {
   "cell_type": "code",
   "execution_count": 23,
   "metadata": {},
   "outputs": [
    {
     "data": {
      "text/plain": [
       "0.7983"
      ]
     },
     "execution_count": 23,
     "metadata": {},
     "output_type": "execute_result"
    }
   ],
   "source": [
    "estimate_probability_of_seq(100, ['C', 'T', 'G'], 20000)"
   ]
  },
  {
   "cell_type": "markdown",
   "metadata": {},
   "source": [
    "But we have a problem"
   ]
  },
  {
   "cell_type": "code",
   "execution_count": 24,
   "metadata": {},
   "outputs": [
    {
     "data": {
      "text/plain": [
       "0.77765"
      ]
     },
     "execution_count": 24,
     "metadata": {},
     "output_type": "execute_result"
    }
   ],
   "source": [
    "emulate_probability_of_seq(100, ['C', 'A', 'C'], 20000)"
   ]
  },
  {
   "cell_type": "markdown",
   "metadata": {},
   "source": [
    "This is because our needle sequence can overlap itself. This means that when we count the number of random sequences of length 5, for instance, we count sequence `CACAC` twice, but when we subtract the number of sequences which has two `CAC` subsequences, we subtract 0. How to count them properly?\n",
    "\n",
    "We can count overlapping sequences as a single sequence. Let's count the number of random sequences of length 6 that contain two `CAC` with overlaps. If there is no overlap, we do it as previously descibed: $4^{6-2\\cdot3} \\cdot \\binom{6 - 2\\cdot3+2}{2} = 1$. If there is an overlap, we know the length of the overlap, in this case it is 1, so the length of our 2 needles together is $2 \\cdot 3 - 1 = 5$. We count that as a single sequence and the number of possible random sequences is computed in the same way as before: $4^{6-5} \\cdot \\binom{6-5+1}{1} = 4 \\cdot 2 = 8$. And we add them together and get 9 possible sequences.\n",
    "\n",
    "Let's test it"
   ]
  },
  {
   "cell_type": "code",
   "execution_count": 34,
   "metadata": {},
   "outputs": [
    {
     "data": {
      "text/plain": [
       "0.05975"
      ]
     },
     "execution_count": 34,
     "metadata": {},
     "output_type": "execute_result"
    }
   ],
   "source": [
    "emulate_probability_of_seq(6, ['C', 'A', 'C'], 20000)"
   ]
  },
  {
   "cell_type": "code",
   "execution_count": 35,
   "metadata": {},
   "outputs": [
    {
     "data": {
      "text/plain": [
       "0.0625"
      ]
     },
     "execution_count": 35,
     "metadata": {},
     "output_type": "execute_result"
    }
   ],
   "source": [
    "number_of_sequences(6, 3, 1) / 4**6"
   ]
  },
  {
   "cell_type": "code",
   "execution_count": 36,
   "metadata": {},
   "outputs": [
    {
     "data": {
      "text/plain": [
       "0.060302734375"
      ]
     },
     "execution_count": 36,
     "metadata": {},
     "output_type": "execute_result"
    }
   ],
   "source": [
    "(number_of_sequences(6, 3, 1) - 9) / 4**6"
   ]
  },
  {
   "cell_type": "markdown",
   "metadata": {},
   "source": [
    "Let $C_2$ be the number of random sequences that contain our sequence twice _with_ overlaps. Let $O_1, O_2 … O_i$ be the lengths of all possible $i$ overlaps for our sequence. Then,\n",
    "\n",
    "$$C_2 = 4^{N-2L} \\cdot \\binom{N-2L+2}{2} + 4^{N-2L+O_1} \\cdot \\binom{N-2L+O_2+1}{1} + … \n",
    "  + 4^{N-2L+O_i} \\cdot \\binom{N-2L+O_i+1}{1}$$"
   ]
  },
  {
   "cell_type": "markdown",
   "metadata": {},
   "source": [
    "We can rewrite this as a sum:\n",
    "\n",
    "$$C_2 = 4^{N-2L} \\cdot \\binom{N-2L+2}{2} + \\sum_{j=0}^i 4^{N-2L+O_j+1}{1}$$"
   ]
  },
  {
   "cell_type": "markdown",
   "metadata": {},
   "source": [
    "For $C_3$ we need to consider the number of ways to form subsequences with overlaps: we can have a single sequence with 2 overlaps, or 1 sequence with 1 overlap and 1 needle or we can have 3 needles."
   ]
  },
  {
   "cell_type": "code",
   "execution_count": null,
   "metadata": {},
   "outputs": [],
   "source": []
  }
 ],
 "metadata": {
  "kernelspec": {
   "display_name": "Python 3",
   "language": "python",
   "name": "python3"
  },
  "language_info": {
   "codemirror_mode": {
    "name": "ipython",
    "version": 3
   },
   "file_extension": ".py",
   "mimetype": "text/x-python",
   "name": "python",
   "nbconvert_exporter": "python",
   "pygments_lexer": "ipython3",
   "version": "3.6.3"
  }
 },
 "nbformat": 4,
 "nbformat_minor": 2
}
