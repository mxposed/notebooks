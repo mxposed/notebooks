{
 "cells": [
  {
   "cell_type": "code",
   "execution_count": 14,
   "metadata": {},
   "outputs": [],
   "source": [
    "sequence = \"ATCCATGACTTGACTATGACGTTCAGCATCTGAAGACTTTCTCGATCGACTATGAAA\""
   ]
  },
  {
   "cell_type": "code",
   "execution_count": 7,
   "metadata": {},
   "outputs": [],
   "source": [
    "def find_atg(sequence, position):\n",
    "    for start_pos in range(position, len(sequence)):\n",
    "        if sequence[start_pos:(start_pos + 3)] == \"ATG\":\n",
    "            return start_pos"
   ]
  },
  {
   "cell_type": "code",
   "execution_count": 8,
   "metadata": {},
   "outputs": [],
   "source": [
    "def find_stop(sequence, position):\n",
    "    for stop_pos in range(position, len(sequence), 3):\n",
    "        if sequence[stop_pos:(stop_pos + 3)] in (\"TAG\", \"TGA\", \"TAA\"):\n",
    "            return sequence[position:(stop_pos + 3)]"
   ]
  },
  {
   "cell_type": "code",
   "execution_count": 17,
   "metadata": {},
   "outputs": [],
   "source": [
    "orfs = []\n",
    "position = 0\n",
    "while position < len(sequence):\n",
    "    start = find_atg(sequence, position)\n",
    "    if not start:\n",
    "        break\n",
    "    orf = find_stop(sequence, start)\n",
    "    if orf:\n",
    "        orfs.append((orf, start))\n",
    "    position += start + 1"
   ]
  },
  {
   "cell_type": "code",
   "execution_count": 18,
   "metadata": {},
   "outputs": [
    {
     "data": {
      "text/plain": [
       "[('ATGACTTGA', 4), ('ATGACGTTCAGCATCTGA', 15)]"
      ]
     },
     "execution_count": 18,
     "metadata": {},
     "output_type": "execute_result"
    }
   ],
   "source": [
    "orfs"
   ]
  },
  {
   "cell_type": "code",
   "execution_count": 12,
   "metadata": {},
   "outputs": [],
   "source": [
    "def find_longest_orf(orfs):\n",
    "    longest = orfs[0]\n",
    "    for orf in orfs[1:]:\n",
    "        if len(orf[0]) > len(longest[0]):\n",
    "            longest = orf\n",
    "    return longest"
   ]
  },
  {
   "cell_type": "code",
   "execution_count": 13,
   "metadata": {},
   "outputs": [
    {
     "data": {
      "text/plain": [
       "('ATGACGTTCAGCATCTGA', 15)"
      ]
     },
     "execution_count": 13,
     "metadata": {},
     "output_type": "execute_result"
    }
   ],
   "source": [
    "find_longest_orf(orfs)"
   ]
  },
  {
   "cell_type": "code",
   "execution_count": null,
   "metadata": {},
   "outputs": [],
   "source": []
  }
 ],
 "metadata": {
  "kernelspec": {
   "display_name": "Python 3",
   "language": "python",
   "name": "python3"
  },
  "language_info": {
   "codemirror_mode": {
    "name": "ipython",
    "version": 3
   },
   "file_extension": ".py",
   "mimetype": "text/x-python",
   "name": "python",
   "nbconvert_exporter": "python",
   "pygments_lexer": "ipython3",
   "version": "3.6.3"
  }
 },
 "nbformat": 4,
 "nbformat_minor": 2
}
